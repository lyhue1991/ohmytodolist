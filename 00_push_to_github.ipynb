{
 "cells": [
  {
   "cell_type": "markdown",
   "id": "786076ec",
   "metadata": {},
   "source": [
    "## 一，Git基本操作"
   ]
  },
  {
   "cell_type": "code",
   "execution_count": 1,
   "id": "2c4dd90b",
   "metadata": {},
   "outputs": [],
   "source": [
    "!git config --global user.name \"lyhue1991\"\n",
    "!git config --global user.email \"lyhue1991@163.com\"\n",
    "\n",
    "# 出现一些类似 warning: LF will be replaced by CRLF in <file-name>. 可启用如下设置。\n",
    "!git config --global core.autocrlf false\n",
    "\n",
    "# 配置打印历史commit的快捷命令\n",
    "!git config --global alias.lg \"log --oneline --graph --all\"\n",
    "\n"
   ]
  },
  {
   "cell_type": "code",
   "execution_count": 2,
   "id": "e51fc012",
   "metadata": {},
   "outputs": [],
   "source": [
    "!rm -rf .git "
   ]
  },
  {
   "cell_type": "code",
   "execution_count": 4,
   "id": "82bf717d",
   "metadata": {},
   "outputs": [
    {
     "name": "stdout",
     "output_type": "stream",
     "text": [
      "Initialized empty Git repository in /Users/liangyun2/CodeFiles/eat_javascript/.git/\n"
     ]
    }
   ],
   "source": [
    "!git init "
   ]
  },
  {
   "cell_type": "code",
   "execution_count": 1,
   "id": "b944d36f",
   "metadata": {},
   "outputs": [],
   "source": [
    "!git add -A "
   ]
  },
  {
   "cell_type": "code",
   "execution_count": 2,
   "id": "8ebe4578",
   "metadata": {},
   "outputs": [
    {
     "name": "stdout",
     "output_type": "stream",
     "text": [
      "[main d8c10a6] update\n",
      " 12 files changed, 28 insertions(+), 28 deletions(-)\n",
      " create mode 100644 dist/icon.png\n",
      " delete mode 100644 dist/vite.svg\n",
      " create mode 100644 public/icon.png\n",
      " delete mode 100644 public/vite.svg\n",
      " create mode 100644 src/assets/icon.png\n",
      " delete mode 100644 src/assets/vue.svg\n"
     ]
    }
   ],
   "source": [
    "!git commit -m\"update\" "
   ]
  },
  {
   "cell_type": "code",
   "execution_count": 3,
   "id": "abc1e236",
   "metadata": {},
   "outputs": [
    {
     "name": "stdout",
     "output_type": "stream",
     "text": [
      "On branch main\n",
      "Your branch is ahead of 'origin/main' by 1 commit.\n",
      "  (use \"git push\" to publish your local commits)\n",
      "\n",
      "Changes not staged for commit:\n",
      "  (use \"git add <file>...\" to update what will be committed)\n",
      "  (use \"git restore <file>...\" to discard changes in working directory)\n",
      "\t\u001b[31mmodified:   00_push_to_github.ipynb\u001b[m\n",
      "\n",
      "no changes added to commit (use \"git add\" and/or \"git commit -a\")\n"
     ]
    }
   ],
   "source": [
    "!git status "
   ]
  },
  {
   "cell_type": "code",
   "execution_count": 9,
   "id": "1f303b64",
   "metadata": {},
   "outputs": [],
   "source": [
    "#!git remote add origin git@github.com:lyhue1991/hellojs.git\n"
   ]
  },
  {
   "cell_type": "code",
   "execution_count": 4,
   "id": "446062d3",
   "metadata": {},
   "outputs": [
    {
     "name": "stdout",
     "output_type": "stream",
     "text": [
      "Enumerating objects: 22, done.\n",
      "Counting objects: 100% (22/22), done.\n",
      "Delta compression using up to 8 threads\n",
      "Compressing objects: 100% (11/11), done.\n",
      "Writing objects: 100% (12/12), 113.51 KiB | 412.00 KiB/s, done.\n",
      "Total 12 (delta 7), reused 0 (delta 0), pack-reused 0\n",
      "remote: Resolving deltas: 100% (7/7), completed with 7 local objects.\u001b[K\n",
      "remote: This repository moved. Please use the new location:\u001b[K\n",
      "remote:   git@github.com:lyhue1991/ohmytodolist.git\u001b[K\n",
      "To github.com:lyhue1991/hellojs.git\n",
      "   440cb95..d8c10a6  main -> main\n",
      "branch 'main' set up to track 'origin/main'.\n"
     ]
    }
   ],
   "source": [
    "\n",
    "!git push -u origin main "
   ]
  },
  {
   "cell_type": "code",
   "execution_count": 10,
   "id": "f1aec968-8c4c-4d01-8d60-0163f8e6c6eb",
   "metadata": {},
   "outputs": [
    {
     "name": "stdout",
     "output_type": "stream",
     "text": [
      "Writing .gitignore\n"
     ]
    }
   ],
   "source": [
    "%%writefile .gitignore \n",
    ".DS_store\n",
    ".ipynb_checkpoints\n",
    ".ipynb_checkpoints/* \n",
    "data/*.zip\n",
    "data/*.tar.gz\n",
    "*.zip \n",
    "*.tar.gz \n",
    "*/tmp/\n",
    "*/wandb/\n",
    "*.\n",
    "*.parquet \n",
    "# Byte-compiled / optimized / DLL files\n",
    ".ipynb_checkpoints\n",
    "__pycache__/\n",
    "*.py[cod]\n",
    "*$py.class\n",
    "*/history.png\n",
    "\n",
    "# C extensions\n",
    "*.so\n",
    "\n",
    "# Distribution / packaging\n",
    ".Python\n",
    "build/\n",
    "develop-eggs/\n",
    "downloads/\n",
    "eggs/\n",
    ".eggs/\n",
    "lib/\n",
    "lib64/\n",
    "parts/\n",
    "sdist/\n",
    "var/\n",
    "wheels/\n",
    "share/python-wheels/\n",
    "*.egg-info/\n",
    ".installed.cfg\n",
    "*.egg\n",
    "MANIFEST\n",
    "\n",
    "# PyInstaller\n",
    "#  Usually these files are written by a python script from a template\n",
    "#  before PyInstaller builds the exe, so as to inject date/other infos into it.\n",
    "*.manifest\n",
    "*.spec\n",
    "\n",
    "# Installer logs\n",
    "pip-log.txt\n",
    "pip-delete-this-directory.txt\n",
    "\n",
    "# Unit test / coverage reports\n",
    "htmlcov/\n",
    ".tox/\n",
    ".nox/\n",
    ".coverage\n",
    ".coverage.*\n",
    ".cache\n",
    "nosetests.xml\n",
    "coverage.xml\n",
    "*.cover\n",
    ".hypothesis/\n",
    ".pytest_cache/\n",
    "\n",
    "# Translations\n",
    "\n",
    "# UserDefined\n",
    "*/catboost_info/\n",
    "*/tb_logs/\n",
    "*/lightning_logs/\n",
    "\n",
    "\n",
    "\n"
   ]
  },
  {
   "cell_type": "markdown",
   "id": "04694960-154a-4f37-b4e0-252589361564",
   "metadata": {},
   "source": [
    "## 二，Vue项目流程"
   ]
  },
  {
   "cell_type": "markdown",
   "id": "3160e8fc",
   "metadata": {},
   "source": [
    "### 1，创建项目\n",
    "\n",
    "创建一个新项目非常简单。只需运行以下命令并按照提示操作\n",
    "\n",
    "```\n",
    "npm create vite@latest my-project -- --template vue\n",
    "```\n",
    "第一个双下划线表示给 vite传递参数，第二个双下划线表示 设置template参数。\n",
    "\n",
    "如果是在当前目录初始化项目，可以使用这个命令。\n",
    "```\n",
    "npm create vite@latest . -- --template vue\n",
    "```\n",
    "\n",
    "你也可以直接运行如下命令，根据交互式提示创建项目。\n",
    "\n",
    "```\n",
    "npm create vite@latest\n",
    "```\n",
    "\n",
    "\n",
    "### 2，安装依赖\n",
    "\n",
    "进入项目路径，运行以下命令来安装 package.json 文件中列出的所有依赖项：\n",
    "\n",
    "```\n",
    "cd my-project\n",
    "npm install\n",
    "\n",
    "```\n",
    "如果要特定地安装某个库，可以执行\n",
    "\n",
    "```\n",
    "npm install plotly\n",
    "```\n",
    "\n",
    "也可以在通过CDN引入库，在 index.html中增加一行:\n",
    "\n",
    "```HTML   \n",
    "<script src=\"https://cdn.jsdelivr.net/npm/danfojs@1.1.2/lib/bundle.min.js\"></script>\n",
    "```\n",
    "在 任何地方按照如下方式赋值就可以使用danfojs库了。\n",
    "\n",
    "```javascript \n",
    "let  dfd = window.dfd;\n",
    "```\n",
    "\n",
    "\n",
    "\n",
    "\n",
    "\n",
    "\n",
    "\n",
    "\n",
    "\n",
    "\n",
    "\n",
    "\n",
    "### 3，修改项目文件\n",
    "\n",
    "一个典型的Vue项目结构如下：\n",
    "```\n",
    "my-project/\n",
    "├── node_modules/\n",
    "├── public/\n",
    "│   ├── favicon.ico\n",
    "│   └── index.html\n",
    "├── src/\n",
    "│   ├── assets/\n",
    "│   ├── components/\n",
    "│   ├── App.vue\n",
    "│   └── main.js\n",
    "├── .gitignore\n",
    "├── babel.config.js\n",
    "├── package.json\n",
    "└── README.md\n",
    "\n",
    "```\n",
    "\n",
    "* public/：包含静态资源，如index.html。\n",
    "* src/：包含项目的源代码。\n",
    "* src/assets/：放置图片、样式等资源文件。\n",
    "* src/components/：放置Vue组件。\n",
    "* src/App.vue：根组件。\n",
    "* src/main.js：项目的入口文件。\n",
    "* package.json：包含项目的依赖和脚本。\n",
    "\n",
    "可以根据项目的需求增加或者修改项目文件。\n",
    "\n",
    "### 4，启动开发服务器\n",
    "\n",
    "完成了项目文件修改后，\n",
    "\n",
    "在项目目录中，运行以下命令来启动一个支持热重载的本地开发服务器 来查看你的vue项目。\n",
    "\n",
    "```\n",
    "npm run dev\n",
    "\n",
    "```\n",
    "\n",
    "\n",
    "### 5，构建项目\n",
    "\n",
    "\n",
    "在项目根目录下运行以下命令来构建项目\n",
    "```\n",
    "npm run build \n",
    "```\n",
    "\n",
    "构建过程会生成一个 dist 目录，其中包含所有静态文件（HTML、CSS、JavaScript和资源文件），这些文件可以直接在浏览器中运行。\n",
    "\n",
    "### 6，本地运行\n",
    "\n",
    "如果你想在本地浏览器中查看构建后的dist目录中的文件，可以使用 serve 包来运行一个本地服务器。\n",
    "\n",
    "```\n",
    "npm install -g serve\n",
    "serve -s dist\n",
    "```\n",
    "\n",
    "\n",
    "### 7，远程托管\n",
    "\n",
    "你可以将 dist 目录中的文件部署到任何Web服务器或托管服务上。\n",
    "\n",
    "例如，可以使用GitHub Pages、Netlify、Vercel等托管服务，也可以将文件上传到自己的服务器。\n",
    "\n",
    "以下是使用GitHub Pages部署静态文件的步骤。\n",
    "\n",
    "(1) 确保项目已经初始化为一个Git仓库，并且已经推送到GitHub上。\n",
    "\n",
    "(2) 安装 gh-pages 包\n",
    "```\n",
    "npm install gh-pages --save-dev\n",
    "\n",
    "```\n",
    "\n",
    "(3) 编辑 package.json 文件，添加以下内容：\n",
    "\n",
    "\n",
    "```json \n",
    "{\n",
    "  \"scripts\": {\n",
    "    \"deploy\": \"gh-pages -d dist\"\n",
    "  }\n",
    "}\n",
    "```\n",
    "\n",
    "(4) 运行部署命令\n",
    "\n",
    "```\n",
    "npm run deploy\n",
    "```\n",
    "\n"
   ]
  },
  {
   "cell_type": "markdown",
   "metadata": {},
   "source": [
    "## 三，npm常用命令"
   ]
  },
  {
   "cell_type": "markdown",
   "metadata": {},
   "source": [
    "```bash \n",
    "npm instal -g danfojs-node #全局环境安装\n",
    "npm uninstall -g danfojs-node #全局环境卸载\n",
    "npm list -g #查看全局安装了哪些包\n",
    "\n",
    "npm install danfojs-node  #当前项目环境安装\n",
    "npm uninstall  danfojs-node #当前项目环境卸载\n",
    "npm list  #查看当前项目安装了哪些包\n",
    "\n",
    "npm config get prefix #查看默认安装路径配置\n",
    "npm config set prefix '~/npm_global' #使用新的全局路径\n",
    "\n",
    "npm install -g nrm #全局安装nrm源管理工具\n",
    "nrm ls #查看有哪些源可用\n",
    "nrm use taobao #使用国内淘宝的node源\n",
    "```"
   ]
  }
 ],
 "metadata": {
  "jupytext": {
   "cell_metadata_filter": "-all",
   "encoding": "# -*- coding: utf-8 -*-",
   "main_language": "python",
   "notebook_metadata_filter": "-all"
  },
  "kernelspec": {
   "display_name": "base",
   "language": "python",
   "name": "python3"
  },
  "language_info": {
   "codemirror_mode": {
    "name": "ipython",
    "version": 3
   },
   "file_extension": ".py",
   "mimetype": "text/x-python",
   "name": "python",
   "nbconvert_exporter": "python",
   "pygments_lexer": "ipython3",
   "version": "3.10.14"
  }
 },
 "nbformat": 4,
 "nbformat_minor": 5
}
